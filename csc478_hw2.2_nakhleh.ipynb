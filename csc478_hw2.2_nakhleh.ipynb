{
 "cells": [
  {
   "cell_type": "markdown",
   "metadata": {},
   "source": [
    "#### George Nakhleh\n",
    "#### CSC 478: Assignment 2\n",
    "#### Using k-nearest neighbors for classification"
   ]
  },
  {
   "cell_type": "markdown",
   "metadata": {},
   "source": [
    "#### Question 2: Classification using scikit-learn)\n",
    "- Experiment with various classifiers from scikit-learn, along with preprocessing and model evaluation capabilities.  \n",
    "- **Dataset**: [bank_data.csv](http://facweb.cs.depaul.edu/mobasher/classes/csc478/Data/bank_data.csv)  \n",
    "  - The dataset is a modified subset of real data on customers for a bank.  \n",
    "  - Description of fields in [this document](http://facweb.cs.depaul.edu/mobasher/classes/csc478/Assignments/bank-data.html)"
   ]
  },
  {
   "cell_type": "markdown",
   "metadata": {},
   "source": [
    "#### 2a) Load and preprocess data using numpy or pandas and preprocessing functions of scikit-learn. \n",
    "- Separate the target attribute (*pep*) from the portion of the data to be used for training and testing.  \n",
    "- Convert the selected dataset into the \"Standard Spreadsheet format\".  \n",
    "- Split the transformed data into training and testing sets (80/20 **randomized**)"
   ]
  },
  {
   "cell_type": "code",
   "execution_count": 1,
   "metadata": {
    "collapsed": true
   },
   "outputs": [],
   "source": [
    "#Import libraries/modules\n",
    "\n",
    "import numpy as np\n",
    "import pandas as pd\n",
    "import matplotlib.pyplot as plt\n",
    "%matplotlib inline"
   ]
  },
  {
   "cell_type": "code",
   "execution_count": 30,
   "metadata": {
    "collapsed": false
   },
   "outputs": [
    {
     "data": {
      "text/html": [
       "<div>\n",
       "<table border=\"1\" class=\"dataframe\">\n",
       "  <thead>\n",
       "    <tr style=\"text-align: right;\">\n",
       "      <th></th>\n",
       "      <th>id</th>\n",
       "      <th>age</th>\n",
       "      <th>income</th>\n",
       "      <th>children</th>\n",
       "      <th>gender</th>\n",
       "      <th>region</th>\n",
       "      <th>married</th>\n",
       "      <th>car</th>\n",
       "      <th>savings_acct</th>\n",
       "      <th>current_acct</th>\n",
       "      <th>mortgage</th>\n",
       "      <th>pep</th>\n",
       "    </tr>\n",
       "  </thead>\n",
       "  <tbody>\n",
       "    <tr>\n",
       "      <th>0</th>\n",
       "      <td>ID12101</td>\n",
       "      <td>48</td>\n",
       "      <td>17546.00</td>\n",
       "      <td>1</td>\n",
       "      <td>FEMALE</td>\n",
       "      <td>INNER_CITY</td>\n",
       "      <td>NO</td>\n",
       "      <td>NO</td>\n",
       "      <td>NO</td>\n",
       "      <td>NO</td>\n",
       "      <td>NO</td>\n",
       "      <td>YES</td>\n",
       "    </tr>\n",
       "    <tr>\n",
       "      <th>1</th>\n",
       "      <td>ID12102</td>\n",
       "      <td>40</td>\n",
       "      <td>30085.10</td>\n",
       "      <td>3</td>\n",
       "      <td>MALE</td>\n",
       "      <td>TOWN</td>\n",
       "      <td>YES</td>\n",
       "      <td>YES</td>\n",
       "      <td>NO</td>\n",
       "      <td>YES</td>\n",
       "      <td>YES</td>\n",
       "      <td>NO</td>\n",
       "    </tr>\n",
       "    <tr>\n",
       "      <th>2</th>\n",
       "      <td>ID12103</td>\n",
       "      <td>51</td>\n",
       "      <td>16575.40</td>\n",
       "      <td>0</td>\n",
       "      <td>FEMALE</td>\n",
       "      <td>INNER_CITY</td>\n",
       "      <td>YES</td>\n",
       "      <td>YES</td>\n",
       "      <td>YES</td>\n",
       "      <td>YES</td>\n",
       "      <td>NO</td>\n",
       "      <td>NO</td>\n",
       "    </tr>\n",
       "    <tr>\n",
       "      <th>3</th>\n",
       "      <td>ID12104</td>\n",
       "      <td>23</td>\n",
       "      <td>20375.40</td>\n",
       "      <td>3</td>\n",
       "      <td>FEMALE</td>\n",
       "      <td>TOWN</td>\n",
       "      <td>YES</td>\n",
       "      <td>NO</td>\n",
       "      <td>NO</td>\n",
       "      <td>YES</td>\n",
       "      <td>NO</td>\n",
       "      <td>NO</td>\n",
       "    </tr>\n",
       "    <tr>\n",
       "      <th>4</th>\n",
       "      <td>ID12105</td>\n",
       "      <td>57</td>\n",
       "      <td>50576.30</td>\n",
       "      <td>0</td>\n",
       "      <td>FEMALE</td>\n",
       "      <td>RURAL</td>\n",
       "      <td>YES</td>\n",
       "      <td>NO</td>\n",
       "      <td>YES</td>\n",
       "      <td>NO</td>\n",
       "      <td>NO</td>\n",
       "      <td>NO</td>\n",
       "    </tr>\n",
       "    <tr>\n",
       "      <th>5</th>\n",
       "      <td>ID12106</td>\n",
       "      <td>57</td>\n",
       "      <td>37869.60</td>\n",
       "      <td>2</td>\n",
       "      <td>FEMALE</td>\n",
       "      <td>TOWN</td>\n",
       "      <td>YES</td>\n",
       "      <td>NO</td>\n",
       "      <td>YES</td>\n",
       "      <td>YES</td>\n",
       "      <td>NO</td>\n",
       "      <td>YES</td>\n",
       "    </tr>\n",
       "    <tr>\n",
       "      <th>6</th>\n",
       "      <td>ID12107</td>\n",
       "      <td>22</td>\n",
       "      <td>8877.07</td>\n",
       "      <td>0</td>\n",
       "      <td>MALE</td>\n",
       "      <td>RURAL</td>\n",
       "      <td>NO</td>\n",
       "      <td>NO</td>\n",
       "      <td>NO</td>\n",
       "      <td>YES</td>\n",
       "      <td>NO</td>\n",
       "      <td>YES</td>\n",
       "    </tr>\n",
       "    <tr>\n",
       "      <th>7</th>\n",
       "      <td>ID12108</td>\n",
       "      <td>58</td>\n",
       "      <td>24946.60</td>\n",
       "      <td>0</td>\n",
       "      <td>MALE</td>\n",
       "      <td>TOWN</td>\n",
       "      <td>YES</td>\n",
       "      <td>YES</td>\n",
       "      <td>YES</td>\n",
       "      <td>YES</td>\n",
       "      <td>NO</td>\n",
       "      <td>NO</td>\n",
       "    </tr>\n",
       "    <tr>\n",
       "      <th>8</th>\n",
       "      <td>ID12109</td>\n",
       "      <td>37</td>\n",
       "      <td>25304.30</td>\n",
       "      <td>2</td>\n",
       "      <td>FEMALE</td>\n",
       "      <td>SUBURBAN</td>\n",
       "      <td>YES</td>\n",
       "      <td>YES</td>\n",
       "      <td>NO</td>\n",
       "      <td>NO</td>\n",
       "      <td>NO</td>\n",
       "      <td>NO</td>\n",
       "    </tr>\n",
       "    <tr>\n",
       "      <th>9</th>\n",
       "      <td>ID12110</td>\n",
       "      <td>54</td>\n",
       "      <td>24212.10</td>\n",
       "      <td>2</td>\n",
       "      <td>MALE</td>\n",
       "      <td>TOWN</td>\n",
       "      <td>YES</td>\n",
       "      <td>YES</td>\n",
       "      <td>YES</td>\n",
       "      <td>YES</td>\n",
       "      <td>NO</td>\n",
       "      <td>NO</td>\n",
       "    </tr>\n",
       "  </tbody>\n",
       "</table>\n",
       "</div>"
      ],
      "text/plain": [
       "        id  age    income  children  gender      region married  car  \\\n",
       "0  ID12101   48  17546.00         1  FEMALE  INNER_CITY      NO   NO   \n",
       "1  ID12102   40  30085.10         3    MALE        TOWN     YES  YES   \n",
       "2  ID12103   51  16575.40         0  FEMALE  INNER_CITY     YES  YES   \n",
       "3  ID12104   23  20375.40         3  FEMALE        TOWN     YES   NO   \n",
       "4  ID12105   57  50576.30         0  FEMALE       RURAL     YES   NO   \n",
       "5  ID12106   57  37869.60         2  FEMALE        TOWN     YES   NO   \n",
       "6  ID12107   22   8877.07         0    MALE       RURAL      NO   NO   \n",
       "7  ID12108   58  24946.60         0    MALE        TOWN     YES  YES   \n",
       "8  ID12109   37  25304.30         2  FEMALE    SUBURBAN     YES  YES   \n",
       "9  ID12110   54  24212.10         2    MALE        TOWN     YES  YES   \n",
       "\n",
       "  savings_acct current_acct mortgage  pep  \n",
       "0           NO           NO       NO  YES  \n",
       "1           NO          YES      YES   NO  \n",
       "2          YES          YES       NO   NO  \n",
       "3           NO          YES       NO   NO  \n",
       "4          YES           NO       NO   NO  \n",
       "5          YES          YES       NO  YES  \n",
       "6           NO          YES       NO  YES  \n",
       "7          YES          YES       NO   NO  \n",
       "8           NO           NO       NO   NO  \n",
       "9          YES          YES       NO   NO  "
      ]
     },
     "execution_count": 30,
     "metadata": {},
     "output_type": "execute_result"
    }
   ],
   "source": [
    "#Read in the data\n",
    "bank_data = pd.read_csv(\"bank_data.csv\")\n",
    "\n",
    "#Inspect\n",
    "bank_data.head(10)"
   ]
  },
  {
   "cell_type": "code",
   "execution_count": 31,
   "metadata": {
    "collapsed": false
   },
   "outputs": [],
   "source": [
    "#Split the target attribute \"pep\" from the predictive attributes\n",
    "#sklearn standard is to call predictive attributes' matrix X, and target y\n",
    "X = bank_data.drop(\"pep\", axis=1, inplace = False)\n",
    "y = bank_data.pep"
   ]
  },
  {
   "cell_type": "code",
   "execution_count": 27,
   "metadata": {
    "collapsed": false
   },
   "outputs": [
    {
     "data": {
      "text/plain": [
       "Index(['id', 'age', 'income', 'children', 'gender', 'region', 'married', 'car',\n",
       "       'savings_acct', 'current_acct', 'mortgage'],\n",
       "      dtype='object')"
      ]
     },
     "execution_count": 27,
     "metadata": {},
     "output_type": "execute_result"
    }
   ],
   "source": [
    "X.columns"
   ]
  },
  {
   "cell_type": "code",
   "execution_count": 32,
   "metadata": {
    "collapsed": false
   },
   "outputs": [],
   "source": [
    "#Put the data into standard spreadsheet format\n",
    "\n",
    "#Don't need id, let's drop it\n",
    "X.drop(\"id\", axis = 1, inplace=True)\n",
    "\n",
    "#Turn YES/NO variables into binaries\n",
    "X.replace(to_replace = ['YES', 'NO'], value = [1.0, 0.0], inplace=True)\n",
    "\n",
    "#Dummify categorical variables\n",
    "def dummify(df , columns):\n",
    "    dummified_cols = pd.get_dummies(df[columns])\n",
    "    df = df.drop(columns, axis = 1, inplace=False)\n",
    "    df_new = df.join(dummified_cols)\n",
    "    return df_new\n",
    "\n",
    "X = dummify(X, ['gender', 'region'])\n",
    "\n",
    "#Scale continuous variables\n",
    "from sklearn.preprocessing import MinMaxScaler\n",
    "\n",
    "Scaler = MinMaxScaler()\n",
    "X[['age', 'income', 'children']] = Scaler.fit_transform(X[['age', 'income', 'children']])"
   ]
  },
  {
   "cell_type": "code",
   "execution_count": 35,
   "metadata": {
    "collapsed": false
   },
   "outputs": [
    {
     "data": {
      "text/html": [
       "<div>\n",
       "<table border=\"1\" class=\"dataframe\">\n",
       "  <thead>\n",
       "    <tr style=\"text-align: right;\">\n",
       "      <th></th>\n",
       "      <th>age</th>\n",
       "      <th>income</th>\n",
       "      <th>children</th>\n",
       "      <th>married</th>\n",
       "      <th>car</th>\n",
       "      <th>savings_acct</th>\n",
       "      <th>current_acct</th>\n",
       "      <th>mortgage</th>\n",
       "      <th>gender_FEMALE</th>\n",
       "      <th>gender_MALE</th>\n",
       "      <th>region_INNER_CITY</th>\n",
       "      <th>region_RURAL</th>\n",
       "      <th>region_SUBURBAN</th>\n",
       "      <th>region_TOWN</th>\n",
       "    </tr>\n",
       "  </thead>\n",
       "  <tbody>\n",
       "    <tr>\n",
       "      <th>0</th>\n",
       "      <td>0.612245</td>\n",
       "      <td>0.215634</td>\n",
       "      <td>0.333333</td>\n",
       "      <td>0.0</td>\n",
       "      <td>0.0</td>\n",
       "      <td>0.0</td>\n",
       "      <td>0.0</td>\n",
       "      <td>0.0</td>\n",
       "      <td>1.0</td>\n",
       "      <td>0.0</td>\n",
       "      <td>1.0</td>\n",
       "      <td>0.0</td>\n",
       "      <td>0.0</td>\n",
       "      <td>0.0</td>\n",
       "    </tr>\n",
       "    <tr>\n",
       "      <th>1</th>\n",
       "      <td>0.448980</td>\n",
       "      <td>0.431395</td>\n",
       "      <td>1.000000</td>\n",
       "      <td>1.0</td>\n",
       "      <td>1.0</td>\n",
       "      <td>0.0</td>\n",
       "      <td>1.0</td>\n",
       "      <td>1.0</td>\n",
       "      <td>0.0</td>\n",
       "      <td>1.0</td>\n",
       "      <td>0.0</td>\n",
       "      <td>0.0</td>\n",
       "      <td>0.0</td>\n",
       "      <td>1.0</td>\n",
       "    </tr>\n",
       "    <tr>\n",
       "      <th>2</th>\n",
       "      <td>0.673469</td>\n",
       "      <td>0.198933</td>\n",
       "      <td>0.000000</td>\n",
       "      <td>1.0</td>\n",
       "      <td>1.0</td>\n",
       "      <td>1.0</td>\n",
       "      <td>1.0</td>\n",
       "      <td>0.0</td>\n",
       "      <td>1.0</td>\n",
       "      <td>0.0</td>\n",
       "      <td>1.0</td>\n",
       "      <td>0.0</td>\n",
       "      <td>0.0</td>\n",
       "      <td>0.0</td>\n",
       "    </tr>\n",
       "    <tr>\n",
       "      <th>3</th>\n",
       "      <td>0.102041</td>\n",
       "      <td>0.264320</td>\n",
       "      <td>1.000000</td>\n",
       "      <td>1.0</td>\n",
       "      <td>0.0</td>\n",
       "      <td>0.0</td>\n",
       "      <td>1.0</td>\n",
       "      <td>0.0</td>\n",
       "      <td>1.0</td>\n",
       "      <td>0.0</td>\n",
       "      <td>0.0</td>\n",
       "      <td>0.0</td>\n",
       "      <td>0.0</td>\n",
       "      <td>1.0</td>\n",
       "    </tr>\n",
       "    <tr>\n",
       "      <th>4</th>\n",
       "      <td>0.795918</td>\n",
       "      <td>0.783987</td>\n",
       "      <td>0.000000</td>\n",
       "      <td>1.0</td>\n",
       "      <td>0.0</td>\n",
       "      <td>1.0</td>\n",
       "      <td>0.0</td>\n",
       "      <td>0.0</td>\n",
       "      <td>1.0</td>\n",
       "      <td>0.0</td>\n",
       "      <td>0.0</td>\n",
       "      <td>1.0</td>\n",
       "      <td>0.0</td>\n",
       "      <td>0.0</td>\n",
       "    </tr>\n",
       "  </tbody>\n",
       "</table>\n",
       "</div>"
      ],
      "text/plain": [
       "        age    income  children  married  car  savings_acct  current_acct  \\\n",
       "0  0.612245  0.215634  0.333333      0.0  0.0           0.0           0.0   \n",
       "1  0.448980  0.431395  1.000000      1.0  1.0           0.0           1.0   \n",
       "2  0.673469  0.198933  0.000000      1.0  1.0           1.0           1.0   \n",
       "3  0.102041  0.264320  1.000000      1.0  0.0           0.0           1.0   \n",
       "4  0.795918  0.783987  0.000000      1.0  0.0           1.0           0.0   \n",
       "\n",
       "   mortgage  gender_FEMALE  gender_MALE  region_INNER_CITY  region_RURAL  \\\n",
       "0       0.0            1.0          0.0                1.0           0.0   \n",
       "1       1.0            0.0          1.0                0.0           0.0   \n",
       "2       0.0            1.0          0.0                1.0           0.0   \n",
       "3       0.0            1.0          0.0                0.0           0.0   \n",
       "4       0.0            1.0          0.0                0.0           1.0   \n",
       "\n",
       "   region_SUBURBAN  region_TOWN  \n",
       "0              0.0          0.0  \n",
       "1              0.0          1.0  \n",
       "2              0.0          0.0  \n",
       "3              0.0          1.0  \n",
       "4              0.0          0.0  "
      ]
     },
     "execution_count": 35,
     "metadata": {},
     "output_type": "execute_result"
    }
   ],
   "source": [
    "X.head(5)"
   ]
  },
  {
   "cell_type": "code",
   "execution_count": 34,
   "metadata": {
    "collapsed": true
   },
   "outputs": [],
   "source": [
    "#Perform an 80/20 training/testing randomized split on the data\n",
    "\n",
    "from sklearn.cross_validation import train_test_split\n",
    "\n",
    "X_train, X_test, y_train, y_test = train_test_split(X, y, test_size=0.2, \n",
    "                                                    random_state = 17, stratify = y)"
   ]
  },
  {
   "cell_type": "markdown",
   "metadata": {},
   "source": [
    "#### 2b) Run scikit-learn's KNN classifier on the test set.\n",
    "- Make sure data is on the same scale  \n",
    "- Generate a confusion matrix and visualize it, and generate a classification report  \n",
    "- Compute the average accuracy score  \n",
    "- See if changing weights or k can improve accuracy"
   ]
  },
  {
   "cell_type": "code",
   "execution_count": 41,
   "metadata": {
    "collapsed": false
   },
   "outputs": [
    {
     "data": {
      "text/plain": [
       "KNeighborsClassifier(algorithm='auto', leaf_size=30, metric='euclidean',\n",
       "           metric_params=None, n_jobs=1, n_neighbors=4, p=2,\n",
       "           weights='uniform')"
      ]
     },
     "execution_count": 41,
     "metadata": {},
     "output_type": "execute_result"
    }
   ],
   "source": [
    "#Make the K-nearest neighbors classifier\n",
    "\n",
    "from sklearn.neighbors import KNeighborsClassifier\n",
    "\n",
    "bank_knn = KNeighborsClassifier(n_neighbors = 4, metric='euclidean')\n",
    "bank_knn.fit(X_train, y_train)\n"
   ]
  },
  {
   "cell_type": "code",
   "execution_count": 42,
   "metadata": {
    "collapsed": false
   },
   "outputs": [
    {
     "data": {
      "text/plain": [
       "array(['NO', 'NO', 'NO', 'NO', 'NO', 'NO', 'NO', 'NO', 'NO', 'NO', 'YES',\n",
       "       'NO', 'NO', 'NO', 'NO', 'NO', 'YES', 'YES', 'NO', 'NO', 'YES', 'NO',\n",
       "       'YES', 'YES', 'NO', 'NO', 'YES', 'YES', 'NO', 'YES', 'YES', 'NO',\n",
       "       'NO', 'NO', 'NO', 'NO', 'NO', 'NO', 'NO', 'YES', 'YES', 'NO', 'NO',\n",
       "       'YES', 'NO', 'NO', 'NO', 'YES', 'NO', 'NO', 'NO', 'YES', 'YES',\n",
       "       'NO', 'NO', 'YES', 'NO', 'YES', 'NO', 'YES', 'NO', 'NO', 'YES',\n",
       "       'NO', 'NO', 'NO', 'NO', 'NO', 'NO', 'NO', 'NO', 'YES', 'NO', 'YES',\n",
       "       'NO', 'NO', 'NO', 'NO', 'NO', 'YES', 'NO', 'YES', 'NO', 'NO', 'NO',\n",
       "       'NO', 'NO', 'NO', 'NO', 'NO', 'NO', 'NO', 'YES', 'NO', 'NO', 'NO',\n",
       "       'NO', 'YES', 'NO', 'NO', 'NO', 'NO', 'YES', 'NO', 'NO', 'NO', 'NO',\n",
       "       'YES', 'NO', 'YES', 'NO', 'YES', 'YES', 'YES', 'YES', 'NO', 'YES',\n",
       "       'NO', 'NO', 'NO'], dtype=object)"
      ]
     },
     "execution_count": 42,
     "metadata": {},
     "output_type": "execute_result"
    }
   ],
   "source": [
    "bank_knn.predict(X_test)"
   ]
  },
  {
   "cell_type": "code",
   "execution_count": 44,
   "metadata": {
    "collapsed": false
   },
   "outputs": [
    {
     "data": {
      "text/plain": [
       "0.59166666666666667"
      ]
     },
     "execution_count": 44,
     "metadata": {},
     "output_type": "execute_result"
    }
   ],
   "source": [
    "#How do we evaluate the model?\n",
    "bank_knn.score(X_test, y_test)\n"
   ]
  },
  {
   "cell_type": "code",
   "execution_count": 45,
   "metadata": {
    "collapsed": false
   },
   "outputs": [
    {
     "name": "stdout",
     "output_type": "stream",
     "text": [
      "[[51 14]\n",
      " [35 20]]\n"
     ]
    }
   ],
   "source": [
    "#confusion matrix\n",
    "from sklearn.metrics import confusion_matrix\n",
    "\n",
    "knn_confusion_matrix = confusion_matrix(y_true = y_test, y_pred = bank_knn.predict(X_test))\n",
    "\n",
    "print(knn_confusion_matrix)\n",
    "#interpreting results:\n",
    "# [0,0] = true negatives\n",
    "# [1,0] = false negatives\n",
    "# [1,1] = true positives\n",
    "# [0,1] = false positives"
   ]
  },
  {
   "cell_type": "code",
   "execution_count": 61,
   "metadata": {
    "collapsed": false
   },
   "outputs": [
    {
     "data": {
      "image/png": "[encoded data removed]",
      "text/plain": [
       "<matplotlib.figure.Figure at 0xbd7a240>"
      ]
     },
     "metadata": {},
     "output_type": "display_data"
    }
   ],
   "source": [
    "#Format that confusion matrix\n",
    "#For placing the actual numbers in the center, code based on stackoverflow answer below:\n",
    "# Link: http://stackoverflow.com/a/11918066\n",
    "\n",
    "plt.matshow(knn_confusion_matrix, cmap = plt.cm.Blues)\n",
    "plt.title(\"KNN Confusion Matrix\\n\")\n",
    "plt.xticks([0,1], ['No', 'Yes'])\n",
    "plt.yticks([0,1], ['No', 'Yes'])\n",
    "plt.ylabel('True label')\n",
    "plt.xlabel('Predicted label')\n",
    "for y in range(knn_confusion_matrix.shape[0]):\n",
    "    for x in range(knn_confusion_matrix.shape[1]):\n",
    "        plt.text(x, y, '{}'.format(knn_confusion_matrix[y, x]),\n",
    "                horizontalalignment = 'center',\n",
    "                verticalalignment = 'center',)\n",
    "plt.show()"
   ]
  },
  {
   "cell_type": "code",
   "execution_count": 62,
   "metadata": {
    "collapsed": true
   },
   "outputs": [],
   "source": [
    "#Generate the classification report\n",
    "\n",
    "from sklearn.metrics import classification_report\n",
    "\n",
    "knn_classif_report = classification_report(y_true = y_test, \n",
    "                                           y_pred = bank_knn.predict(X_test))"
   ]
  },
  {
   "cell_type": "code",
   "execution_count": 64,
   "metadata": {
    "collapsed": false
   },
   "outputs": [
    {
     "name": "stdout",
     "output_type": "stream",
     "text": [
      "             precision    recall  f1-score   support\n",
      "\n",
      "         NO       0.59      0.78      0.68        65\n",
      "        YES       0.59      0.36      0.45        55\n",
      "\n",
      "avg / total       0.59      0.59      0.57       120\n",
      "\n"
     ]
    }
   ],
   "source": [
    "print(knn_classif_report)  #neat"
   ]
  },
  {
   "cell_type": "markdown",
   "metadata": {},
   "source": [
    "Bring it all together: tweak KNN model, and evaluate"
   ]
  },
  {
   "cell_type": "code",
   "execution_count": 81,
   "metadata": {
    "collapsed": false
   },
   "outputs": [
    {
     "name": "stdout",
     "output_type": "stream",
     "text": [
      "             precision    recall  f1-score   support\n",
      "\n",
      "         NO       0.65      0.66      0.66        65\n",
      "        YES       0.59      0.58      0.59        55\n",
      "\n",
      "avg / total       0.62      0.62      0.62       120\n",
      " \n",
      "Accuracy:  0.625\n"
     ]
    }
   ],
   "source": [
    "bank_knn = KNeighborsClassifier(n_neighbors = 3, metric='euclidean')\n",
    "bank_knn.fit(X_train, y_train)\n",
    "knn_classif_report = classification_report(y_true = y_test, \n",
    "                                           y_pred = bank_knn.predict(X_test))\n",
    "print(knn_classif_report, '\\nAccuracy: ', bank_knn.score(X_test, y_test))"
   ]
  },
  {
   "cell_type": "code",
   "execution_count": 80,
   "metadata": {
    "collapsed": false
   },
   "outputs": [
    {
     "name": "stdout",
     "output_type": "stream",
     "text": [
      "             precision    recall  f1-score   support\n",
      "\n",
      "         NO       0.65      0.69      0.67        65\n",
      "        YES       0.61      0.56      0.58        55\n",
      "\n",
      "avg / total       0.63      0.63      0.63       120\n",
      " \n",
      "Accuracy:  0.633333333333\n"
     ]
    }
   ],
   "source": [
    "bank_knn = KNeighborsClassifier(n_neighbors = 3, weights = 'distance',\n",
    "                                metric='euclidean')\n",
    "bank_knn.fit(X_train, y_train)\n",
    "knn_classif_report = classification_report(y_true = y_test, \n",
    "                                           y_pred = bank_knn.predict(X_test))\n",
    "print(knn_classif_report, '\\nAccuracy: ', bank_knn.score(X_test, y_test))"
   ]
  },
  {
   "cell_type": "code",
   "execution_count": 79,
   "metadata": {
    "collapsed": false
   },
   "outputs": [
    {
     "name": "stdout",
     "output_type": "stream",
     "text": [
      "             precision    recall  f1-score   support\n",
      "\n",
      "         NO       0.66      0.80      0.72        65\n",
      "        YES       0.68      0.51      0.58        55\n",
      "\n",
      "avg / total       0.67      0.67      0.66       120\n",
      " \n",
      "Accuracy:  0.666666666667\n"
     ]
    }
   ],
   "source": [
    "bank_knn = KNeighborsClassifier(n_neighbors = 8, weights = 'uniform',\n",
    "                                metric='euclidean')\n",
    "bank_knn.fit(X_train, y_train)\n",
    "knn_classif_report = classification_report(y_true = y_test, \n",
    "                                           y_pred = bank_knn.predict(X_test))\n",
    "print(knn_classif_report, '\\nAccuracy: ', bank_knn.score(X_test, y_test))"
   ]
  },
  {
   "cell_type": "code",
   "execution_count": 78,
   "metadata": {
    "collapsed": false
   },
   "outputs": [
    {
     "name": "stdout",
     "output_type": "stream",
     "text": [
      "             precision    recall  f1-score   support\n",
      "\n",
      "         NO       0.66      0.82      0.73        65\n",
      "        YES       0.70      0.51      0.59        55\n",
      "\n",
      "avg / total       0.68      0.68      0.67       120\n",
      " \n",
      "Accuracy:  0.675\n"
     ]
    }
   ],
   "source": [
    "bank_knn = KNeighborsClassifier(n_neighbors = 8, weights = 'uniform',\n",
    "                                metric='manhattan')\n",
    "bank_knn.fit(X_train, y_train)\n",
    "knn_classif_report = classification_report(y_true = y_test, \n",
    "                                           y_pred = bank_knn.predict(X_test))\n",
    "print(knn_classif_report, '\\nAccuracy: ', bank_knn.score(X_test, y_test))"
   ]
  },
  {
   "cell_type": "code",
   "execution_count": 77,
   "metadata": {
    "collapsed": false
   },
   "outputs": [
    {
     "name": "stdout",
     "output_type": "stream",
     "text": [
      "             precision    recall  f1-score   support\n",
      "\n",
      "         NO       0.69      0.71      0.70        65\n",
      "        YES       0.64      0.62      0.63        55\n",
      "\n",
      "avg / total       0.67      0.67      0.67       120\n",
      " \n",
      "Accuracy:  0.666666666667\n"
     ]
    }
   ],
   "source": [
    "bank_knn = KNeighborsClassifier(n_neighbors = 8, weights = 'distance',\n",
    "                                metric='manhattan')\n",
    "bank_knn.fit(X_train, y_train)\n",
    "knn_classif_report = classification_report(y_true = y_test, \n",
    "                                           y_pred = bank_knn.predict(X_test))\n",
    "print(knn_classif_report, '\\nAccuracy: ', bank_knn.score(X_test, y_test))"
   ]
  },
  {
   "cell_type": "code",
   "execution_count": 88,
   "metadata": {
    "collapsed": false
   },
   "outputs": [
    {
     "name": "stdout",
     "output_type": "stream",
     "text": [
      "             precision    recall  f1-score   support\n",
      "\n",
      "         NO       0.66      0.80      0.72        65\n",
      "        YES       0.68      0.51      0.58        55\n",
      "\n",
      "avg / total       0.67      0.67      0.66       120\n",
      " \n",
      "Accuracy:  0.666666666667\n"
     ]
    }
   ],
   "source": [
    "bank_knn = KNeighborsClassifier(n_neighbors = 8, weights = 'uniform',\n",
    "                                metric='euclidean')\n",
    "bank_knn.fit(X_train, y_train)\n",
    "knn_classif_report = classification_report(y_true = y_test, \n",
    "                                           y_pred = bank_knn.predict(X_test))\n",
    "print(knn_classif_report, '\\nAccuracy: ', bank_knn.score(X_test, y_test))"
   ]
  },
  {
   "cell_type": "code",
   "execution_count": 76,
   "metadata": {
    "collapsed": false
   },
   "outputs": [
    {
     "name": "stdout",
     "output_type": "stream",
     "text": [
      "             precision    recall  f1-score   support\n",
      "\n",
      "         NO       0.65      0.85      0.74        65\n",
      "        YES       0.72      0.47      0.57        55\n",
      "\n",
      "avg / total       0.69      0.68      0.66       120\n",
      " \n",
      "Accuracy:  0.675\n"
     ]
    }
   ],
   "source": [
    "bank_knn = KNeighborsClassifier(n_neighbors = 10, weights = 'uniform',\n",
    "                                metric='manhattan')\n",
    "bank_knn.fit(X_train, y_train)\n",
    "knn_classif_report = classification_report(y_true = y_test, \n",
    "                                           y_pred = bank_knn.predict(X_test))\n",
    "print(knn_classif_report, '\\nAccuracy: ', bank_knn.score(X_test, y_test))"
   ]
  },
  {
   "cell_type": "code",
   "execution_count": 75,
   "metadata": {
    "collapsed": false
   },
   "outputs": [
    {
     "name": "stdout",
     "output_type": "stream",
     "text": [
      "             precision    recall  f1-score   support\n",
      "\n",
      "         NO       0.68      0.75      0.72        65\n",
      "        YES       0.67      0.58      0.62        55\n",
      "\n",
      "avg / total       0.67      0.68      0.67       120\n",
      " \n",
      "Accuracy:  0.675\n"
     ]
    }
   ],
   "source": [
    "bank_knn = KNeighborsClassifier(n_neighbors = 10, weights = 'distance',\n",
    "                                metric='manhattan')\n",
    "bank_knn.fit(X_train, y_train)\n",
    "knn_classif_report = classification_report(y_true = y_test, \n",
    "                                           y_pred = bank_knn.predict(X_test))\n",
    "print(knn_classif_report, '\\nAccuracy: ', bank_knn.score(X_test, y_test))"
   ]
  },
  {
   "cell_type": "code",
   "execution_count": 84,
   "metadata": {
    "collapsed": false
   },
   "outputs": [
    {
     "name": "stdout",
     "output_type": "stream",
     "text": [
      "             precision    recall  f1-score   support\n",
      "\n",
      "         NO       0.63      0.65      0.64        65\n",
      "        YES       0.57      0.55      0.56        55\n",
      "\n",
      "avg / total       0.60      0.60      0.60       120\n",
      " \n",
      "Accuracy:  0.6\n"
     ]
    }
   ],
   "source": [
    "bank_knn = KNeighborsClassifier(n_neighbors = 10, weights = 'distance',\n",
    "                                metric='euclidean')\n",
    "bank_knn.fit(X_train, y_train)\n",
    "knn_classif_report = classification_report(y_true = y_test, \n",
    "                                           y_pred = bank_knn.predict(X_test))\n",
    "print(knn_classif_report, '\\nAccuracy: ', bank_knn.score(X_test, y_test))"
   ]
  },
  {
   "cell_type": "code",
   "execution_count": 82,
   "metadata": {
    "collapsed": false
   },
   "outputs": [
    {
     "name": "stdout",
     "output_type": "stream",
     "text": [
      "             precision    recall  f1-score   support\n",
      "\n",
      "         NO       0.66      0.80      0.72        65\n",
      "        YES       0.68      0.51      0.58        55\n",
      "\n",
      "avg / total       0.67      0.67      0.66       120\n",
      " \n",
      "Accuracy:  0.666666666667\n"
     ]
    }
   ],
   "source": [
    "bank_knn = KNeighborsClassifier(n_neighbors = 20, weights = 'distance',\n",
    "                                metric='manhattan')\n",
    "bank_knn.fit(X_train, y_train)\n",
    "knn_classif_report = classification_report(y_true = y_test, \n",
    "                                           y_pred = bank_knn.predict(X_test))\n",
    "print(knn_classif_report, '\\nAccuracy: ', bank_knn.score(X_test, y_test))"
   ]
  },
  {
   "cell_type": "markdown",
   "metadata": {},
   "source": [
    "**Results**  \n",
    "\n",
    "Increasing k:  \n",
    "  - Improves precision overall and for both classes\n",
    "  - Improves recall overall, but decreases for the 'YES' class\n",
    "  - Accuracy peaks at around 67% (around k=10)  \n",
    "\n",
    "Changing weights:  \n",
    "  - Using uniform weighting vs distance weighting doesn't affect accuracy\n",
    "  - Distance improves precision for 'YES', hurts it for 'NO'  \n",
    "\n",
    "Distance measure:\n",
    "  - Manhattan seems to have better accuracy than Euclidean"
   ]
  },
  {
   "cell_type": "code",
   "execution_count": null,
   "metadata": {
    "collapsed": true
   },
   "outputs": [],
   "source": []
  }
 ],
 "metadata": {
  "kernelspec": {
   "display_name": "Python 3",
   "language": "python",
   "name": "python3"
  },
  "language_info": {
   "codemirror_mode": {
    "name": "ipython",
    "version": 3
   },
   "file_extension": ".py",
   "mimetype": "text/x-python",
   "name": "python",
   "nbconvert_exporter": "python",
   "pygments_lexer": "ipython3",
   "version": "3.5.1"
  }
 },
 "nbformat": 4,
 "nbformat_minor": 0
}
